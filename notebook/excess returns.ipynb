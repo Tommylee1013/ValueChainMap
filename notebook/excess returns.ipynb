{
 "cells": [
  {
   "cell_type": "code",
   "id": "initial_id",
   "metadata": {
    "collapsed": true,
    "ExecuteTime": {
     "end_time": "2025-10-26T09:51:15.023143Z",
     "start_time": "2025-10-26T09:51:14.068769Z"
    }
   },
   "source": [
    "from tvDatafeed import TvDatafeed, Interval\n",
    "\n",
    "with open(\"../config/tradingview.key\", \"r\", encoding=\"utf-8\") as f:\n",
    "    username, password = [line.strip() for line in f]\n",
    "\n",
    "tv = TvDatafeed(username, password)"
   ],
   "outputs": [],
   "execution_count": 69
  },
  {
   "metadata": {
    "ExecuteTime": {
     "end_time": "2025-10-26T08:09:38.804093Z",
     "start_time": "2025-10-26T08:09:38.782741Z"
    }
   },
   "cell_type": "code",
   "source": [
    "import numpy as np\n",
    "import pandas as pd\n",
    "import matplotlib.pyplot as plt\n",
    "\n",
    "stock_list = pd.read_excel('../data/stock_list.xlsx', index_col=0)"
   ],
   "id": "74199d4d30102faa",
   "outputs": [],
   "execution_count": 46
  },
  {
   "metadata": {
    "ExecuteTime": {
     "end_time": "2025-10-26T08:09:38.952977Z",
     "start_time": "2025-10-26T08:09:38.950006Z"
    }
   },
   "cell_type": "code",
   "source": "filtered_stocks = stock_list[(stock_list['country'] == 'United States') | (stock_list['country'] == 'South Korea')][['ticker','exchange']]",
   "id": "fd26145d49d1f909",
   "outputs": [],
   "execution_count": 47
  },
  {
   "metadata": {
    "ExecuteTime": {
     "end_time": "2025-10-26T08:09:46.406104Z",
     "start_time": "2025-10-26T08:09:46.401140Z"
    }
   },
   "cell_type": "code",
   "source": "filtered_stocks",
   "id": "47cb4955aa6e5b40",
   "outputs": [
    {
     "data": {
      "text/plain": [
       "    ticker exchange\n",
       "no                 \n",
       "1      CEG   NASDAQ\n",
       "2      VST     NYSE\n",
       "3      TLN   NASDAQ\n",
       "4      SMR     NYSE\n",
       "5     OKLO     NYSE\n",
       "6      NNE   NASDAQ\n",
       "7      NaN      NaN\n",
       "8      NaN      NaN\n",
       "10     GEV     NYSE\n",
       "11  052690      KRX\n",
       "16  034020      KRX\n",
       "17  083650      KRX\n",
       "18  032820      KRX\n",
       "19  044490      KRX\n",
       "20    BWXT     NYSE\n",
       "21      CW     NYSE\n",
       "22     MIR     NYSE\n",
       "23  000720      KRX\n",
       "24  375500      KRX\n",
       "25  028260      KRX\n",
       "27     FLR     NYSE\n",
       "28     NaN      NaN\n",
       "29     LEU     AMEX\n",
       "30    ASPI   NASDAQ\n",
       "31     CCJ     NYSE\n",
       "36     UEC     AMEX\n",
       "37     DUK     NYSE\n",
       "38      SO     NYSE\n",
       "39       D     NYSE\n",
       "40     ETR     NYSE\n",
       "41     NRG     NYSE\n",
       "42     GEV     NYSE\n",
       "45  034020      KRX\n",
       "49     NaN      NaN\n",
       "50  083650      KRX\n",
       "51  100840      KRX\n",
       "52     WWD   NASDAQ\n",
       "53     HWM     NYSE\n",
       "54     CRS     NYSE\n",
       "55     NaN      NaN\n",
       "56     NaN      NaN"
      ],
      "text/html": [
       "<div>\n",
       "<style scoped>\n",
       "    .dataframe tbody tr th:only-of-type {\n",
       "        vertical-align: middle;\n",
       "    }\n",
       "\n",
       "    .dataframe tbody tr th {\n",
       "        vertical-align: top;\n",
       "    }\n",
       "\n",
       "    .dataframe thead th {\n",
       "        text-align: right;\n",
       "    }\n",
       "</style>\n",
       "<table border=\"1\" class=\"dataframe\">\n",
       "  <thead>\n",
       "    <tr style=\"text-align: right;\">\n",
       "      <th></th>\n",
       "      <th>ticker</th>\n",
       "      <th>exchange</th>\n",
       "    </tr>\n",
       "    <tr>\n",
       "      <th>no</th>\n",
       "      <th></th>\n",
       "      <th></th>\n",
       "    </tr>\n",
       "  </thead>\n",
       "  <tbody>\n",
       "    <tr>\n",
       "      <th>1</th>\n",
       "      <td>CEG</td>\n",
       "      <td>NASDAQ</td>\n",
       "    </tr>\n",
       "    <tr>\n",
       "      <th>2</th>\n",
       "      <td>VST</td>\n",
       "      <td>NYSE</td>\n",
       "    </tr>\n",
       "    <tr>\n",
       "      <th>3</th>\n",
       "      <td>TLN</td>\n",
       "      <td>NASDAQ</td>\n",
       "    </tr>\n",
       "    <tr>\n",
       "      <th>4</th>\n",
       "      <td>SMR</td>\n",
       "      <td>NYSE</td>\n",
       "    </tr>\n",
       "    <tr>\n",
       "      <th>5</th>\n",
       "      <td>OKLO</td>\n",
       "      <td>NYSE</td>\n",
       "    </tr>\n",
       "    <tr>\n",
       "      <th>6</th>\n",
       "      <td>NNE</td>\n",
       "      <td>NASDAQ</td>\n",
       "    </tr>\n",
       "    <tr>\n",
       "      <th>7</th>\n",
       "      <td>NaN</td>\n",
       "      <td>NaN</td>\n",
       "    </tr>\n",
       "    <tr>\n",
       "      <th>8</th>\n",
       "      <td>NaN</td>\n",
       "      <td>NaN</td>\n",
       "    </tr>\n",
       "    <tr>\n",
       "      <th>10</th>\n",
       "      <td>GEV</td>\n",
       "      <td>NYSE</td>\n",
       "    </tr>\n",
       "    <tr>\n",
       "      <th>11</th>\n",
       "      <td>052690</td>\n",
       "      <td>KRX</td>\n",
       "    </tr>\n",
       "    <tr>\n",
       "      <th>16</th>\n",
       "      <td>034020</td>\n",
       "      <td>KRX</td>\n",
       "    </tr>\n",
       "    <tr>\n",
       "      <th>17</th>\n",
       "      <td>083650</td>\n",
       "      <td>KRX</td>\n",
       "    </tr>\n",
       "    <tr>\n",
       "      <th>18</th>\n",
       "      <td>032820</td>\n",
       "      <td>KRX</td>\n",
       "    </tr>\n",
       "    <tr>\n",
       "      <th>19</th>\n",
       "      <td>044490</td>\n",
       "      <td>KRX</td>\n",
       "    </tr>\n",
       "    <tr>\n",
       "      <th>20</th>\n",
       "      <td>BWXT</td>\n",
       "      <td>NYSE</td>\n",
       "    </tr>\n",
       "    <tr>\n",
       "      <th>21</th>\n",
       "      <td>CW</td>\n",
       "      <td>NYSE</td>\n",
       "    </tr>\n",
       "    <tr>\n",
       "      <th>22</th>\n",
       "      <td>MIR</td>\n",
       "      <td>NYSE</td>\n",
       "    </tr>\n",
       "    <tr>\n",
       "      <th>23</th>\n",
       "      <td>000720</td>\n",
       "      <td>KRX</td>\n",
       "    </tr>\n",
       "    <tr>\n",
       "      <th>24</th>\n",
       "      <td>375500</td>\n",
       "      <td>KRX</td>\n",
       "    </tr>\n",
       "    <tr>\n",
       "      <th>25</th>\n",
       "      <td>028260</td>\n",
       "      <td>KRX</td>\n",
       "    </tr>\n",
       "    <tr>\n",
       "      <th>27</th>\n",
       "      <td>FLR</td>\n",
       "      <td>NYSE</td>\n",
       "    </tr>\n",
       "    <tr>\n",
       "      <th>28</th>\n",
       "      <td>NaN</td>\n",
       "      <td>NaN</td>\n",
       "    </tr>\n",
       "    <tr>\n",
       "      <th>29</th>\n",
       "      <td>LEU</td>\n",
       "      <td>AMEX</td>\n",
       "    </tr>\n",
       "    <tr>\n",
       "      <th>30</th>\n",
       "      <td>ASPI</td>\n",
       "      <td>NASDAQ</td>\n",
       "    </tr>\n",
       "    <tr>\n",
       "      <th>31</th>\n",
       "      <td>CCJ</td>\n",
       "      <td>NYSE</td>\n",
       "    </tr>\n",
       "    <tr>\n",
       "      <th>36</th>\n",
       "      <td>UEC</td>\n",
       "      <td>AMEX</td>\n",
       "    </tr>\n",
       "    <tr>\n",
       "      <th>37</th>\n",
       "      <td>DUK</td>\n",
       "      <td>NYSE</td>\n",
       "    </tr>\n",
       "    <tr>\n",
       "      <th>38</th>\n",
       "      <td>SO</td>\n",
       "      <td>NYSE</td>\n",
       "    </tr>\n",
       "    <tr>\n",
       "      <th>39</th>\n",
       "      <td>D</td>\n",
       "      <td>NYSE</td>\n",
       "    </tr>\n",
       "    <tr>\n",
       "      <th>40</th>\n",
       "      <td>ETR</td>\n",
       "      <td>NYSE</td>\n",
       "    </tr>\n",
       "    <tr>\n",
       "      <th>41</th>\n",
       "      <td>NRG</td>\n",
       "      <td>NYSE</td>\n",
       "    </tr>\n",
       "    <tr>\n",
       "      <th>42</th>\n",
       "      <td>GEV</td>\n",
       "      <td>NYSE</td>\n",
       "    </tr>\n",
       "    <tr>\n",
       "      <th>45</th>\n",
       "      <td>034020</td>\n",
       "      <td>KRX</td>\n",
       "    </tr>\n",
       "    <tr>\n",
       "      <th>49</th>\n",
       "      <td>NaN</td>\n",
       "      <td>NaN</td>\n",
       "    </tr>\n",
       "    <tr>\n",
       "      <th>50</th>\n",
       "      <td>083650</td>\n",
       "      <td>KRX</td>\n",
       "    </tr>\n",
       "    <tr>\n",
       "      <th>51</th>\n",
       "      <td>100840</td>\n",
       "      <td>KRX</td>\n",
       "    </tr>\n",
       "    <tr>\n",
       "      <th>52</th>\n",
       "      <td>WWD</td>\n",
       "      <td>NASDAQ</td>\n",
       "    </tr>\n",
       "    <tr>\n",
       "      <th>53</th>\n",
       "      <td>HWM</td>\n",
       "      <td>NYSE</td>\n",
       "    </tr>\n",
       "    <tr>\n",
       "      <th>54</th>\n",
       "      <td>CRS</td>\n",
       "      <td>NYSE</td>\n",
       "    </tr>\n",
       "    <tr>\n",
       "      <th>55</th>\n",
       "      <td>NaN</td>\n",
       "      <td>NaN</td>\n",
       "    </tr>\n",
       "    <tr>\n",
       "      <th>56</th>\n",
       "      <td>NaN</td>\n",
       "      <td>NaN</td>\n",
       "    </tr>\n",
       "  </tbody>\n",
       "</table>\n",
       "</div>"
      ]
     },
     "execution_count": 50,
     "metadata": {},
     "output_type": "execute_result"
    }
   ],
   "execution_count": 50
  },
  {
   "metadata": {
    "ExecuteTime": {
     "end_time": "2025-10-26T08:09:54.527840Z",
     "start_time": "2025-10-26T08:09:54.521788Z"
    }
   },
   "cell_type": "code",
   "source": [
    "stock_tickers = {\n",
    "    i : j for i, j in zip(filtered_stocks['ticker'], filtered_stocks['exchange'])\n",
    "}"
   ],
   "id": "7091d50a93b0eb37",
   "outputs": [],
   "execution_count": 51
  },
  {
   "metadata": {
    "ExecuteTime": {
     "end_time": "2025-10-26T08:09:55.251976Z",
     "start_time": "2025-10-26T08:09:55.248429Z"
    }
   },
   "cell_type": "code",
   "source": [
    "for ticker, exchange in stock_tickers.items() :\n",
    "    print(ticker, exchange)"
   ],
   "id": "1d1064bfb77b413",
   "outputs": [
    {
     "name": "stdout",
     "output_type": "stream",
     "text": [
      "CEG NASDAQ\n",
      "VST NYSE\n",
      "TLN NASDAQ\n",
      "SMR NYSE\n",
      "OKLO NYSE\n",
      "NNE NASDAQ\n",
      "nan nan\n",
      "GEV NYSE\n",
      "052690 KRX\n",
      "034020 KRX\n",
      "083650 KRX\n",
      "032820 KRX\n",
      "044490 KRX\n",
      "BWXT NYSE\n",
      "CW NYSE\n",
      "MIR NYSE\n",
      "000720 KRX\n",
      "375500 KRX\n",
      "028260 KRX\n",
      "FLR NYSE\n",
      "LEU AMEX\n",
      "ASPI NASDAQ\n",
      "CCJ NYSE\n",
      "UEC AMEX\n",
      "DUK NYSE\n",
      "SO NYSE\n",
      "D NYSE\n",
      "ETR NYSE\n",
      "NRG NYSE\n",
      "100840 KRX\n",
      "WWD NASDAQ\n",
      "HWM NYSE\n",
      "CRS NYSE\n"
     ]
    }
   ],
   "execution_count": 52
  },
  {
   "metadata": {
    "ExecuteTime": {
     "end_time": "2025-10-26T09:53:55.715382Z",
     "start_time": "2025-10-26T09:53:55.699964Z"
    }
   },
   "cell_type": "code",
   "source": [
    "import time\n",
    "\n",
    "def get_data_from_tradingview(\n",
    "        stock_tickers: dict,\n",
    "        columns: str | list | None = None,\n",
    "        interval=Interval.in_daily,\n",
    "        n_bars: int = 2500,\n",
    "        max_retries: int = 5\n",
    "    ) -> pd.DataFrame:\n",
    "    \"\"\"\n",
    "    TradingView에서 여러 종목의 가격 데이터를 수집합니다.\n",
    "\n",
    "    Parameters\n",
    "    ----------\n",
    "    stock_tickers : dict\n",
    "        {'TICKER': 'EXCHANGE'} 형태의 딕셔너리\n",
    "        예: {'AAPL': 'NASDAQ', 'DJI': 'TVC'}\n",
    "    columns : str | list | None, optional\n",
    "        특정 컬럼만 선택해서 반환 ('close', ['open','close'] 등)\n",
    "        None이면 전체 컬럼 반환\n",
    "    interval : tradingview_ta.Interval\n",
    "        데이터 주기 (기본값: 일간)\n",
    "    n_bars : int\n",
    "        불러올 데이터 개수 (기본값: 2500)\n",
    "    max_retries : int\n",
    "        각 종목당 최대 재시도 횟수 (기본값: 5)\n",
    "    \"\"\"\n",
    "\n",
    "    price_data = {}\n",
    "\n",
    "    for ticker, exchange in stock_tickers.items():\n",
    "        if pd.isna(ticker) or str(ticker).strip() == \"\":\n",
    "            print(f\"🚫 ticker is empty : {exchange}\")\n",
    "            continue\n",
    "\n",
    "        col_name = f\"{exchange}:{ticker}\"\n",
    "        success = False\n",
    "\n",
    "        for attempt in range(1, max_retries + 1):\n",
    "            try:\n",
    "                df = tv.get_hist(\n",
    "                    symbol=ticker,\n",
    "                    exchange=exchange,\n",
    "                    interval=interval,\n",
    "                    n_bars=n_bars\n",
    "                )\n",
    "\n",
    "                if df is None or df.empty:\n",
    "                    raise ValueError(\"No data returned\")\n",
    "\n",
    "                df.index = pd.to_datetime(df.index.strftime(\"%Y-%m-%d\"))\n",
    "\n",
    "                # ✅ 컬럼 선택 처리\n",
    "                if columns is None:\n",
    "                    selected = df.copy()  # 전체 컬럼\n",
    "                elif isinstance(columns, str):\n",
    "                    selected = df[[columns]]\n",
    "                else:  # list\n",
    "                    selected = df[columns]\n",
    "\n",
    "                # 컬럼 이름 변경\n",
    "                selected.columns = (\n",
    "                    [f\"{col_name}:{col}\" for col in selected.columns]\n",
    "                    if len(selected.columns) > 1 else [col_name]\n",
    "                )\n",
    "\n",
    "                price_data[col_name] = selected\n",
    "                print(f\"✅ {col_name} completed ({len(df)} rows)\")\n",
    "                success = True\n",
    "                break\n",
    "\n",
    "            except Exception as e:\n",
    "                print(f\"⚠️ {col_name} attempt {attempt}/{max_retries} : {e}\")\n",
    "                time.sleep(2 * attempt)\n",
    "\n",
    "        if not success:\n",
    "            print(f\"❌ failed to download stock : {col_name}\")\n",
    "\n",
    "    # 🔹 모든 데이터 병합\n",
    "    if price_data:\n",
    "        merged_df = pd.concat(price_data.values(), axis=1)\n",
    "        return merged_df\n",
    "    else:\n",
    "        print(\"❌ no data collected\")\n",
    "        return pd.DataFrame()"
   ],
   "id": "2940d5e71abf523f",
   "outputs": [],
   "execution_count": 72
  },
  {
   "metadata": {
    "ExecuteTime": {
     "end_time": "2025-10-26T09:55:37.603248Z",
     "start_time": "2025-10-26T09:54:16.718761Z"
    }
   },
   "cell_type": "code",
   "source": [
    "price_data = get_data_from_tradingview(\n",
    "    stock_tickers = stock_tickers,\n",
    "    columns = 'close'\n",
    ")"
   ],
   "id": "c463853b6369f6d4",
   "outputs": [
    {
     "name": "stdout",
     "output_type": "stream",
     "text": [
      "✅ NASDAQ:CEG completed (946 rows)\n",
      "✅ NYSE:VST completed (2128 rows)\n",
      "✅ NASDAQ:TLN completed (599 rows)\n",
      "✅ NYSE:SMR completed (1225 rows)\n",
      "✅ NYSE:OKLO completed (1053 rows)\n",
      "✅ NASDAQ:NNE completed (368 rows)\n",
      "🚫 ticker is empty : nan\n",
      "✅ NYSE:GEV completed (397 rows)\n",
      "✅ KRX:052690 completed (2500 rows)\n",
      "✅ KRX:034020 completed (2500 rows)\n",
      "✅ KRX:083650 completed (2500 rows)\n",
      "✅ KRX:032820 completed (2500 rows)\n",
      "✅ KRX:044490 completed (2500 rows)\n",
      "✅ NYSE:BWXT completed (2500 rows)\n",
      "✅ NYSE:CW completed (2500 rows)\n",
      "✅ NYSE:MIR completed (1007 rows)\n",
      "✅ KRX:000720 completed (2500 rows)\n",
      "✅ KRX:375500 completed (1164 rows)\n",
      "✅ KRX:028260 completed (2500 rows)\n",
      "✅ NYSE:FLR completed (2500 rows)\n",
      "✅ AMEX:LEU completed (2500 rows)\n",
      "✅ NASDAQ:ASPI completed (741 rows)\n",
      "✅ NYSE:CCJ completed (2500 rows)\n",
      "✅ AMEX:UEC completed (2500 rows)\n",
      "✅ NYSE:DUK completed (2500 rows)\n",
      "✅ NYSE:SO completed (2500 rows)\n",
      "✅ NYSE:D completed (2500 rows)\n",
      "✅ NYSE:ETR completed (2500 rows)\n",
      "✅ NYSE:NRG completed (2500 rows)\n",
      "✅ KRX:100840 completed (2500 rows)\n",
      "✅ NASDAQ:WWD completed (2500 rows)\n",
      "✅ NYSE:HWM completed (2266 rows)\n",
      "✅ NYSE:CRS completed (2500 rows)\n"
     ]
    }
   ],
   "execution_count": 73
  },
  {
   "metadata": {
    "ExecuteTime": {
     "end_time": "2025-10-26T09:58:07.653837Z",
     "start_time": "2025-10-26T09:58:07.518026Z"
    }
   },
   "cell_type": "code",
   "source": "price_data.ffill().plot(legend = False)",
   "id": "72a0b86b45cdd117",
   "outputs": [
    {
     "data": {
      "text/plain": [
       "<Axes: xlabel='datetime'>"
      ]
     },
     "execution_count": 78,
     "metadata": {},
     "output_type": "execute_result"
    },
    {
     "data": {
      "text/plain": [
       "<Figure size 640x480 with 1 Axes>"
      ],
      "image/png": "[encoded data removed]"
     },
     "metadata": {},
     "output_type": "display_data",
     "jetTransient": {
      "display_id": null
     }
    }
   ],
   "execution_count": 78
  },
  {
   "metadata": {
    "ExecuteTime": {
     "end_time": "2025-10-26T10:09:01.096087Z",
     "start_time": "2025-10-26T10:09:01.092617Z"
    }
   },
   "cell_type": "code",
   "source": [
    "index_tickers = {\n",
    "    'SPX' : 'TVC',\n",
    "    'IXIC' : 'TVC',\n",
    "    'XAX' : 'TVC',\n",
    "    'KOSPI' : 'KRX'\n",
    "}"
   ],
   "id": "90bcde0d0e394112",
   "outputs": [],
   "execution_count": 85
  },
  {
   "metadata": {
    "ExecuteTime": {
     "end_time": "2025-10-26T10:09:06.118052Z",
     "start_time": "2025-10-26T10:09:01.556130Z"
    }
   },
   "cell_type": "code",
   "source": [
    "indices_data = get_data_from_tradingview(\n",
    "    stock_tickers = index_tickers,\n",
    "    columns = 'close'\n",
    ")"
   ],
   "id": "46e642cc34dad555",
   "outputs": [
    {
     "name": "stdout",
     "output_type": "stream",
     "text": [
      "✅ TVC:SPX completed (2500 rows)\n",
      "✅ TVC:IXIC completed (2500 rows)\n",
      "✅ TVC:XAX completed (2500 rows)\n",
      "✅ KRX:KOSPI completed (2500 rows)\n"
     ]
    }
   ],
   "execution_count": 86
  },
  {
   "metadata": {
    "ExecuteTime": {
     "end_time": "2025-10-26T10:09:11.821231Z",
     "start_time": "2025-10-26T10:09:11.755877Z"
    }
   },
   "cell_type": "code",
   "source": "indices_data.ffill()['KRX:KOSPI'].plot()",
   "id": "12e1351fb4032efd",
   "outputs": [
    {
     "data": {
      "text/plain": [
       "<Axes: xlabel='datetime'>"
      ]
     },
     "execution_count": 88,
     "metadata": {},
     "output_type": "execute_result"
    },
    {
     "data": {
      "text/plain": [
       "<Figure size 640x480 with 1 Axes>"
      ],
      "image/png": "[encoded data removed]"
     },
     "metadata": {},
     "output_type": "display_data",
     "jetTransient": {
      "display_id": null
     }
    }
   ],
   "execution_count": 88
  },
  {
   "metadata": {},
   "cell_type": "code",
   "outputs": [],
   "execution_count": null,
   "source": "",
   "id": "66e8ef55e28fbf53"
  }
 ],
 "metadata": {
  "kernelspec": {
   "display_name": "Python 3",
   "language": "python",
   "name": "python3"
  },
  "language_info": {
   "codemirror_mode": {
    "name": "ipython",
    "version": 2
   },
   "file_extension": ".py",
   "mimetype": "text/x-python",
   "name": "python",
   "nbconvert_exporter": "python",
   "pygments_lexer": "ipython2",
   "version": "2.7.6"
  }
 },
 "nbformat": 4,
 "nbformat_minor": 5
}
